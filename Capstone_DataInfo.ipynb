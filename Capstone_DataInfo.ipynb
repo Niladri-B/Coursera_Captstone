{
 "cells": [
  {
   "cell_type": "markdown",
   "metadata": {},
   "source": [
    "# Transport options in Oslo\n",
    "## 2. Data"
   ]
  },
  {
   "cell_type": "markdown",
   "metadata": {},
   "source": [
    "### 2.1 Points to consider\n",
    "* In Oslo kommune/municipality, a given street can belong to different postcodes\n",
    "  * A postcode is not very intuitive to understand/place....\"*oh I live in XYZ postcode is not very helpful/intuitive*\"\n",
    "* So we need to make a decision how deep a level to drill down, wrt defining an 'area'\n",
    "* Having postcode info may lead to redundant street level data\n",
    "  * i.e. 1 street = several postcodes\n",
    "  * conversely, 1 postcode = several streets, sometimes same street in different postcodes\n",
    "* Since it is not very intuitive to understand the location of postcodes, nobody can place them in their head, I will use street data.\n",
    "* But then the question comes, how to define coordinates of street? One possible way may be to use mid points of street start and street end.\n",
    "  * We make an assumption that for a small part of Earth such as a street, the region is flat.\n",
    "  * So we take the starting street address and ending street address and compute the mid point of those two geo-coordinates."
   ]
  },
  {
   "cell_type": "markdown",
   "metadata": {},
   "source": [
    "### 2.2 Stuff one can explore at a street-level info"
   ]
  },
  {
   "cell_type": "markdown",
   "metadata": {},
   "source": [
    "* Restaurants/cafe/eating places\n",
    "* Malls/Bazaar/Torg/Storsenter\n",
    "* Dagligvare/Groceries\n",
    "* Schools/College/Educational\n",
    "* Places_of_worship\n",
    "* Parks/Play_areas/Recreation\n",
    "* Pubs/Bars/Nightclub\n",
    "* Vinmonopolet\n",
    "* Population\n",
    "* Crime\n",
    "* Transport"
   ]
  },
  {
   "cell_type": "markdown",
   "metadata": {},
   "source": [
    "### 2.3 For our project concerning Transport options..."
   ]
  },
  {
   "cell_type": "markdown",
   "metadata": {},
   "source": [
    "* Cluster neighbourhoods/streets/postcodes that have good transport v/s poor transport connections\n",
    "  * Idea would be- find neighbourhoods that have transport options within 400m, which is a reasonable walking distance that does not take too long to cover.\n",
    "  * Henceforth, we will search for transport options within a 400m radius of a given geo-location"
   ]
  },
  {
   "cell_type": "markdown",
   "metadata": {},
   "source": [
    "### 2.4 However...\n",
    "\n",
    "Transport data is not available with **Foursquare**, at least not directly, which has been mandated to be used"
   ]
  },
  {
   "cell_type": "markdown",
   "metadata": {},
   "source": [
    "### 2.5 So what is available with Foursquare?"
   ]
  },
  {
   "cell_type": "markdown",
   "metadata": {},
   "source": [
    "* Shopping\n",
    " * Vinmonopolet/Wineshop\n",
    " * SportingGoods\n",
    " * Bar\n",
    " * ShoppingMall\n",
    " * Apparel/ClothingStore\n",
    " * FoodCourt\n",
    "* BusStation/BusStop\n",
    "* Metro/LightRail/Trikk\n",
    "    \n",
    "In general, Foursquare data is not very good for Oslo, compared to USA/Canada, possibly due to insufficient awareness/use  \n",
    "\n",
    "To do a transport project, would need to individually extract different transport modes:  \n",
    "* _Trikk/Tram_\n",
    "* _Bus Stop_/_Bus Station_\n",
    "* _T-bane/Metro_\n",
    "* _Train Station_"
   ]
  },
  {
   "cell_type": "markdown",
   "metadata": {},
   "source": [
    "### 2.6 Additionally..."
   ]
  },
  {
   "cell_type": "markdown",
   "metadata": {},
   "source": [
    "* To obtain the geo-coordinates of different streets will not be an easy task\n",
    "* Such information would need to be manually generated-\n",
    " * One possible way is with the help of the website created by Erik Bolstad https://www.erikbolstad.no/postnummer-koordinatar/kommune.php?kommunenummer=301\n",
    "   * It provides geo-coordinates of all the different bydel/districts of Oslo\n",
    "   * Additionally, within each bydel, it maps out the street addresses which we will need to obtain."
   ]
  },
  {
   "cell_type": "code",
   "execution_count": null,
   "metadata": {},
   "outputs": [],
   "source": []
  }
 ],
 "metadata": {
  "kernelspec": {
   "display_name": "Python 3",
   "language": "python",
   "name": "python3"
  },
  "language_info": {
   "codemirror_mode": {
    "name": "ipython",
    "version": 3
   },
   "file_extension": ".py",
   "mimetype": "text/x-python",
   "name": "python",
   "nbconvert_exporter": "python",
   "pygments_lexer": "ipython3",
   "version": "3.5.7"
  }
 },
 "nbformat": 4,
 "nbformat_minor": 2
}
