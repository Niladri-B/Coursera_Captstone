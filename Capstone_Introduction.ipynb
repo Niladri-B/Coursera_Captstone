{
 "cells": [
  {
   "cell_type": "markdown",
   "metadata": {},
   "source": [
    "# Transport options in Oslo\n",
    "## 1. Introduction "
   ]
  },
  {
   "cell_type": "markdown",
   "metadata": {},
   "source": [
    "### 1.1 Background"
   ]
  },
  {
   "cell_type": "markdown",
   "metadata": {},
   "source": [
    "Recently, Oslo won the title of the **European Green Capital** :https://www.visitoslo.com/en/articles/oslo-european-green-capital-2019/  \n",
    "There is an increased push from the Govt. of Norway towards greener and more efficient means of transport that is helping achieve such prestigious awards.  \n",
    "\n",
    "\n",
    "As part of fulfilment of this goal, the govt. has introduced several measures that discourage private vehicle ownership and instead promote public transport.  \n",
    "However, not all areas of the country, and indeed, even the capital city of Oslo have equitable distribution of public transport options."
   ]
  },
  {
   "cell_type": "markdown",
   "metadata": {},
   "source": [
    "If the public is to use the public transport, then the public *needs access* to public transport. It is as simple as that. "
   ]
  },
  {
   "cell_type": "markdown",
   "metadata": {},
   "source": [
    "### 1.2 Business Problem"
   ]
  },
  {
   "cell_type": "markdown",
   "metadata": {},
   "source": [
    "The transport department approaches me to help them decide where to build more transport options.  \n",
    "My job as a data science consultant is therefore to help them decide which areas of Oslo are lacking adequate transport infrastructure and where they should invest.  \n",
    "To do this, I will cluster neighbourhoods/areas based on the number of transport options available and visualise them on a map."
   ]
  },
  {
   "cell_type": "markdown",
   "metadata": {},
   "source": [
    "The target audience and stakeholders is therefore the transport department in the Govt. who want to know which areas of Oslo need better transport options"
   ]
  },
  {
   "cell_type": "markdown",
   "metadata": {},
   "source": [
    "To accomplish this task, one would need data on the different types of transport options available, where they are available and how many are available.   \n",
    "Such information may be obtained through the Foursquare API, that has been mandated to be used.\n",
    "Additionally, one would need location data of postcode/street to pin-point the areas that need improvement."
   ]
  },
  {
   "cell_type": "markdown",
   "metadata": {},
   "source": [
    "So let's get started!"
   ]
  }
 ],
 "metadata": {
  "kernelspec": {
   "display_name": "Python 3",
   "language": "python",
   "name": "python3"
  },
  "language_info": {
   "codemirror_mode": {
    "name": "ipython",
    "version": 3
   },
   "file_extension": ".py",
   "mimetype": "text/x-python",
   "name": "python",
   "nbconvert_exporter": "python",
   "pygments_lexer": "ipython3",
   "version": "3.5.7"
  }
 },
 "nbformat": 4,
 "nbformat_minor": 2
}
